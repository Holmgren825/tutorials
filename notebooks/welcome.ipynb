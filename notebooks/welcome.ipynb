{
 "cells": [
  {
   "cell_type": "markdown",
   "metadata": {},
   "source": [
    "# Welcome to the OGGM tutorials!"
   ]
  },
  {
   "cell_type": "markdown",
   "metadata": {},
   "source": [
    "If you are new to jupyter notebooks or to jupyterlab, we recommend to have a look at our [introduction to jupyter notebooks](https://edu.oggm.org/en/latest/notebooks_howto.html) first!"
   ]
  },
  {
   "cell_type": "markdown",
   "metadata": {},
   "source": [
    "Ready to go?\n",
    "\n",
    "**Beginner tutorials:**\n",
    "- [getting_started.ipynb](getting_started.ipynb) will get you through all the steps of an OGGM run and explain the OGGM fundamentals\n",
    "- [working_with_rgi.ipynb](working_with_rgi.ipynb) will show you how to read glacier outline files\n",
    "- [area_length_filter.ipynb](area_length_filter.ipynb): a short tutorial about how to filter spikes in the area and length outputs\n",
    "- [plot_mass_balance.ipynb](plot_mass_balance.ipynb): fetch and plot the simulated mass-balance\n",
    "- [run_with_gcm.ipynb](run_with_gcm.ipynb): run a simulation with GCM data (CMIP5 projections)\n",
    "- [deal_with_errors.ipynb](deal_with_errors.ipynb): dealing with errors after a run\n",
    "- [inversion.ipynb](inversion.ipynb): run the OGGM ice thickness inversion model with various ice parameters\n",
    "- [store_and_compress_glacierdirs.ipynb](store_and_compress_glacierdirs.ipynb): Storing and compressing glacier directories for later use\n",
    "\n",
    "**Advanced tutorials:**\n",
    "- [preprocessing_errors.ipynb](preprocessing_errors.ipynb): error analysis of the global pre-processing workflow\n",
    "- [dem_sources.ipynb](dem_sources.ipynb): Create local topography maps from different DEM sources with OGGM\n",
    "- [thickness_model.ipynb](thickness_model.ipynb): use OGGM to extract gridded attributes on a glacier (e.g. slope) and make a toy statistical model of ice thickness\n",
    "- [inversion_with_frontal_ablation.ipynb](inversion_with_frontal_ablation.ipynb): a case study about ice thickness inversion with frontal ablation\n",
    "- [kcalving_parameterization.ipynb](kcalving_parameterization.ipynb): the Oerlemans & Nick frontal ablation parameterization in OGGM\n",
    "- [merging_glaciers.ipynb](merging_glaciers.ipynb): a tutorial about how to merge two or more glaciers for advancing glacier scenarios\n",
    "- [use_your_own_inventory.ipynb](use_your_own_inventory.ipynb): use custom glacier inventories with OGGM\n",
    "- [massbalance-calibration.ipynb](massbalance-calibration.ipynb): yet another way to show how the mass-balance calibration works, and tweak the model a little bit\n",
    "- [where-are-the-flowlines.ipynb](where-are-the-flowlines.ipynb): how to access the OGGM flowlines location before, during, and after a run. \n",
    "\n",
    "**Other things:**\n",
    "- [pyviz_intro.ipynb](pyviz_intro.ipynb): an introduction to the pyciz vizualisation ecosystem\n",
    "- [dem_comparison.ipynb](dem_comparison.ipynb): compare the various DEMs available in OGGM\n",
    "- [oggm_shop.ipynb](oggm_shop.ipynb): getting acquainted with the ideas behind GlacierDirectories in OGGM and how you can use the shop to add data to them"
   ]
  },
  {
   "cell_type": "markdown",
   "metadata": {},
   "source": [
    "Have fun learning OGGM!"
   ]
  }
 ],
 "metadata": {
  "hide_input": false,
  "kernelspec": {
   "display_name": "Python 3",
   "language": "python",
   "name": "python3"
  },
  "language_info": {
   "codemirror_mode": {
    "name": "ipython",
    "version": 3
   },
   "file_extension": ".py",
   "mimetype": "text/x-python",
   "name": "python",
   "nbconvert_exporter": "python",
   "pygments_lexer": "ipython3",
   "version": "3.8.5"
  },
  "latex_envs": {
   "LaTeX_envs_menu_present": true,
   "autoclose": false,
   "autocomplete": true,
   "bibliofile": "biblio.bib",
   "cite_by": "apalike",
   "current_citInitial": 1,
   "eqLabelWithNumbers": true,
   "eqNumInitial": 1,
   "hotkeys": {
    "equation": "Ctrl-E",
    "itemize": "Ctrl-I"
   },
   "labels_anchors": false,
   "latex_user_defs": false,
   "report_style_numbering": false,
   "user_envs_cfg": false
  },
  "nbTranslate": {
   "displayLangs": [
    "*"
   ],
   "hotkey": "alt-t",
   "langInMainMenu": true,
   "sourceLang": "en",
   "targetLang": "fr",
   "useGoogleTranslate": true
  },
  "toc": {
   "base_numbering": 1,
   "nav_menu": {},
   "number_sections": false,
   "sideBar": true,
   "skip_h1_title": true,
   "title_cell": "Table of Contents",
   "title_sidebar": "Contents",
   "toc_cell": false,
   "toc_position": {},
   "toc_section_display": true,
   "toc_window_display": false
  }
 },
 "nbformat": 4,
 "nbformat_minor": 4
}
