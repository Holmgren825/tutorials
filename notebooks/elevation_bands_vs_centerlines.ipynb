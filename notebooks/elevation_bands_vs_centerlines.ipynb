{
 "cells": [
  {
   "cell_type": "markdown",
   "metadata": {},
   "source": [
    "# OGGM centerlines versus elevation-band flowlines: a quick comparison "
   ]
  },
  {
   "cell_type": "markdown",
   "metadata": {},
   "source": [
    "As of version 1.4, OGGM introduced a new way to compute flowlines: the so-called \"elevation-band flowlines\" (after [Huss & Farinotti, 2012](https://agupubs.onlinelibrary.wiley.com/doi/full/10.1029/2012JF002523)). This notebook allows you to compare the two methods based on the available glacier directories."
   ]
  },
  {
   "cell_type": "code",
   "execution_count": null,
   "metadata": {},
   "outputs": [],
   "source": [
    "from oggm import cfg, utils, workflow, tasks, graphics\n",
    "from oggm.core import flowline\n",
    "import salem\n",
    "import xarray as xr\n",
    "import pandas as pd\n",
    "import geopandas as gpd\n",
    "import matplotlib.pyplot as plt"
   ]
  },
  {
   "cell_type": "code",
   "execution_count": null,
   "metadata": {},
   "outputs": [],
   "source": [
    "cfg.initialize(logging_level='WARNING')"
   ]
  },
  {
   "cell_type": "code",
   "execution_count": null,
   "metadata": {},
   "outputs": [],
   "source": [
    "# Pick the glacier you want! We try Hintereisferner\n",
    "rgi_ids = ['RGI60-11.00897']"
   ]
  },
  {
   "cell_type": "markdown",
   "metadata": {},
   "source": [
    "## Get ready"
   ]
  },
  {
   "cell_type": "markdown",
   "metadata": {},
   "source": [
    "In order to open the same glacier on two different glacier directories, we trick: we set a new working directory for each case! "
   ]
  },
  {
   "cell_type": "code",
   "execution_count": null,
   "metadata": {},
   "outputs": [],
   "source": [
    "# Where to store the data \n",
    "cfg.PATHS['working_dir'] = utils.gettempdir(dirname='OGGM-centerlines', reset=True)\n",
    "\n",
    "# We start from prepro level 3 with all data ready\n",
    "base_url = 'https://cluster.klima.uni-bremen.de/~oggm/gdirs/oggm_v1.4/L3-L5_files/CRU/centerlines/qc3/pcp2.5/no_match/'\n",
    "gdirs = workflow.init_glacier_directories(rgi_ids, from_prepro_level=3, prepro_border=40, prepro_base_url=base_url)\n",
    "gdir_cl = gdirs[0]\n",
    "gdir_cl"
   ]
  },
  {
   "cell_type": "code",
   "execution_count": null,
   "metadata": {},
   "outputs": [],
   "source": [
    "cfg.PATHS['working_dir'] = utils.gettempdir(dirname='OGGM-elevbands', reset=True)\n",
    "base_url = 'https://cluster.klima.uni-bremen.de/~oggm/gdirs/oggm_v1.4/L3-L5_files/CRU/elev_bands/qc3/pcp2.5/no_match/'\n",
    "gdirs = workflow.init_glacier_directories(rgi_ids, from_prepro_level=3, prepro_border=40, prepro_base_url=base_url)\n",
    "gdir_eb = gdirs[0]\n",
    "gdir_eb"
   ]
  },
  {
   "cell_type": "code",
   "execution_count": null,
   "metadata": {},
   "outputs": [],
   "source": [
    "tasks.compute_downstream_line(gdir_eb)\n",
    "tasks.compute_downstream_bedshape(gdir_eb)\n",
    "tasks.init_present_time_glacier(gdir_eb)"
   ]
  },
  {
   "cell_type": "markdown",
   "metadata": {},
   "source": [
    "##  Glacier length and cross section"
   ]
  },
  {
   "cell_type": "code",
   "execution_count": null,
   "metadata": {},
   "outputs": [],
   "source": [
    "fls_cl = gdir_cl.read_pickle('model_flowlines')\n",
    "fls_eb = gdir_eb.read_pickle('model_flowlines')"
   ]
  },
  {
   "cell_type": "code",
   "execution_count": null,
   "metadata": {},
   "outputs": [],
   "source": [
    "f, (ax1, ax2) = plt.subplots(2, 1, figsize=(10, 14), sharex=True, sharey=True)\n",
    "graphics.plot_modeloutput_section(fls_cl, ax=ax1)\n",
    "ax1.set_title('Geometrical centerline')\n",
    "graphics.plot_modeloutput_section(fls_eb, ax=ax2)\n",
    "ax2.set_title('Elevation band flowline');"
   ]
  },
  {
   "cell_type": "code",
   "execution_count": null,
   "metadata": {},
   "outputs": [],
   "source": [
    "gdir_cl.read_pickle('downstream_line')['downstream_line'].length"
   ]
  },
  {
   "cell_type": "code",
   "execution_count": null,
   "metadata": {},
   "outputs": [],
   "source": [
    "gdir_eb.read_pickle('downstream_line')['downstream_line'].length"
   ]
  },
  {
   "cell_type": "code",
   "execution_count": null,
   "metadata": {},
   "outputs": [],
   "source": [
    "tasks.run_random_climate(gdir_cl, nyears=100, y0=2000, seed=0, output_filesuffix='_rdn');\n",
    "tasks.run_random_climate(gdir_eb, nyears=100, y0=2000, seed=0, output_filesuffix='_rdn');"
   ]
  },
  {
   "cell_type": "code",
   "execution_count": null,
   "metadata": {},
   "outputs": [],
   "source": [
    "ds_cl = xr.open_dataset(gdir_cl.get_filepath('model_diagnostics', filesuffix='_rdn'))\n",
    "ds_eb = xr.open_dataset(gdir_eb.get_filepath('model_diagnostics', filesuffix='_rdn'))"
   ]
  },
  {
   "cell_type": "code",
   "execution_count": null,
   "metadata": {},
   "outputs": [],
   "source": [
    "ds_cl.length_m.plot()\n",
    "ds_eb.length_m.plot()"
   ]
  },
  {
   "cell_type": "code",
   "execution_count": null,
   "metadata": {},
   "outputs": [],
   "source": [
    "ds_cl.volume_m3.plot()\n",
    "ds_eb.volume_m3.plot()"
   ]
  },
  {
   "cell_type": "code",
   "execution_count": null,
   "metadata": {},
   "outputs": [],
   "source": [
    "gdir_cl.get_diagnostics()['inversion_glen_a'] / cfg.PARAMS[''] , gdir_eb.get_diagnostics(), "
   ]
  },
  {
   "cell_type": "code",
   "execution_count": null,
   "metadata": {},
   "outputs": [],
   "source": [
    "ds_cl"
   ]
  },
  {
   "cell_type": "markdown",
   "metadata": {},
   "source": [
    "## Where is the terminus?"
   ]
  },
  {
   "cell_type": "markdown",
   "metadata": {},
   "source": [
    "There are several way to get the terminus, depending on what you want. They are also not necessarily exact same:"
   ]
  },
  {
   "cell_type": "markdown",
   "metadata": {},
   "source": [
    "### Terminus as the lowest point on the glacier"
   ]
  },
  {
   "cell_type": "code",
   "execution_count": null,
   "metadata": {},
   "outputs": [],
   "source": [
    "# Get the topo data and the glacier mask\n",
    "with xr.open_dataset(gdir.get_filepath('gridded_data')) as ds:\n",
    "    topo = ds.topo\n",
    "    # Glacier outline raster\n",
    "    mask = ds.glacier_ext"
   ]
  },
  {
   "cell_type": "code",
   "execution_count": null,
   "metadata": {},
   "outputs": [],
   "source": [
    "topo.plot();"
   ]
  },
  {
   "cell_type": "code",
   "execution_count": null,
   "metadata": {},
   "outputs": [],
   "source": [
    "topo_ext = topo.where(mask==1)\n",
    "topo_ext.plot();"
   ]
  },
  {
   "cell_type": "code",
   "execution_count": null,
   "metadata": {},
   "outputs": [],
   "source": [
    "# Get the terminus\n",
    "terminus = topo_ext.where(topo_ext==topo_ext.min(), drop=True)\n",
    "# Project its coordinates from the local UTM to WGS-84\n",
    "t_lon, t_lat = salem.transform_proj(gdir.grid.proj, 'EPSG:4326', terminus.x[0], terminus.y[0])\n",
    "print(t_lon, t_lat)"
   ]
  },
  {
   "cell_type": "markdown",
   "metadata": {},
   "source": [
    "### Terminus as the lowest point on the main centerline"
   ]
  },
  {
   "cell_type": "code",
   "execution_count": null,
   "metadata": {},
   "outputs": [],
   "source": [
    "# Get the centerlines\n",
    "cls = gdir.read_pickle('centerlines')\n",
    "# Get the coord of the last point of the main centerline\n",
    "cl = cls[-1]\n",
    "i, j = cl.line.coords[-1]\n",
    "# These coords are in glacier grid coordinates. Let's convert them to lon, lat:\n",
    "t_lon, t_lat = gdir.grid.ij_to_crs(i, j, crs='EPSG:4326')\n",
    "t_lon, t_lat"
   ]
  },
  {
   "cell_type": "markdown",
   "metadata": {},
   "source": [
    "### Terminus as the lowest point on the main flowline "
   ]
  },
  {
   "cell_type": "markdown",
   "metadata": {},
   "source": [
    "\"centerline\" in the OGGM jargon is not the same as \"flowline\". Flowlines have a fixed dx and their terminus in not necessarily exact on the glacier outline. Code-wise it's very similar though:"
   ]
  },
  {
   "cell_type": "code",
   "execution_count": null,
   "metadata": {},
   "outputs": [],
   "source": [
    "# Get the flowlines\n",
    "cls = gdir.read_pickle('inversion_flowlines')\n",
    "# Get the coord of the last point of the main centerline\n",
    "cl = cls[-1]\n",
    "i, j = cl.line.coords[-1]\n",
    "# These coords are in glacier grid coordinates. Let's convert them to lon, lat:\n",
    "t_lon, t_lat = gdir.grid.ij_to_crs(i, j, crs='EPSG:4326')\n",
    "t_lon, t_lat"
   ]
  },
  {
   "cell_type": "markdown",
   "metadata": {},
   "source": [
    "### Bonus: convert the centerlines to a shapefile "
   ]
  },
  {
   "cell_type": "code",
   "execution_count": null,
   "metadata": {},
   "outputs": [],
   "source": [
    "utils.write_centerlines_to_shape(gdirs, path='out.shp')"
   ]
  },
  {
   "cell_type": "code",
   "execution_count": null,
   "metadata": {},
   "outputs": [],
   "source": [
    "sh = gpd.read_file('out.shp')\n",
    "sh.plot();"
   ]
  },
  {
   "cell_type": "markdown",
   "metadata": {},
   "source": [
    "## Flowline geometry after a run with `FileModel`"
   ]
  },
  {
   "cell_type": "markdown",
   "metadata": {},
   "source": [
    "Let's do a run first:"
   ]
  },
  {
   "cell_type": "code",
   "execution_count": null,
   "metadata": {},
   "outputs": [],
   "source": [
    "tasks.init_present_time_glacier(gdir)\n",
    "tasks.run_constant_climate(gdir, nyears=100, y0=2000);"
   ]
  },
  {
   "cell_type": "markdown",
   "metadata": {},
   "source": [
    "We use a `FileModel` to read the model output:"
   ]
  },
  {
   "cell_type": "code",
   "execution_count": null,
   "metadata": {},
   "outputs": [],
   "source": [
    "fmod = flowline.FileModel(gdir.get_filepath('model_run'))"
   ]
  },
  {
   "cell_type": "markdown",
   "metadata": {},
   "source": [
    "A FileModel behaves like a OGGM's `FlowlineModel`:"
   ]
  },
  {
   "cell_type": "code",
   "execution_count": null,
   "metadata": {},
   "outputs": [],
   "source": [
    "fmod.run_until(0)  # Point the file model to year 0 in the output\n",
    "graphics.plot_modeloutput_map(gdir, model=fmod)  # plot it"
   ]
  },
  {
   "cell_type": "code",
   "execution_count": null,
   "metadata": {},
   "outputs": [],
   "source": [
    "fmod.run_until(100)  # Point the file model to year 100 in the output\n",
    "graphics.plot_modeloutput_map(gdir, model=fmod)  # plot it"
   ]
  },
  {
   "cell_type": "code",
   "execution_count": null,
   "metadata": {},
   "outputs": [],
   "source": [
    "# Bonus - get back to e.g. the volume timeseries\n",
    "fmod.volume_km3_ts().plot();"
   ]
  },
  {
   "cell_type": "markdown",
   "metadata": {},
   "source": [
    "OK, now create a table of the main flowline's grid points location and bed altitude (this does not change with time): "
   ]
  },
  {
   "cell_type": "code",
   "execution_count": null,
   "metadata": {},
   "outputs": [],
   "source": [
    "fl = fmod.fls[-1]  # Main flowline\n",
    "i, j = fl.line.xy  # xy flowline on grid\n",
    "lons, lats = gdir.grid.ij_to_crs(i, j, crs='EPSG:4326')  # to WGS84\n",
    "\n",
    "df_coords = pd.DataFrame(index=fl.dis_on_line*gdir.grid.dx)\n",
    "df_coords.index.name = 'Distance along flowline'\n",
    "df_coords['lon'] = lons\n",
    "df_coords['lat'] = lats\n",
    "df_coords['bed_elevation'] = fl.bed_h\n",
    "df_coords.plot(x='lon', y='lat');"
   ]
  },
  {
   "cell_type": "code",
   "execution_count": null,
   "metadata": {},
   "outputs": [],
   "source": [
    "df_coords['bed_elevation'].plot();"
   ]
  },
  {
   "cell_type": "markdown",
   "metadata": {},
   "source": [
    "Now store a time varying array of ice thickness, surface elevation along this line:"
   ]
  },
  {
   "cell_type": "code",
   "execution_count": null,
   "metadata": {},
   "outputs": [],
   "source": [
    "df_thick = pd.DataFrame(index=df_coords.index)\n",
    "df_surf_h = pd.DataFrame(index=df_coords.index)\n",
    "df_bed_h = pd.DataFrame()\n",
    "for year in range(0, 101):\n",
    "    fmod.run_until(year)\n",
    "    fl = fmod.fls[-1]\n",
    "    df_thick[year] = fl.thick\n",
    "    df_surf_h[year] = fl.surface_h"
   ]
  },
  {
   "cell_type": "code",
   "execution_count": null,
   "metadata": {},
   "outputs": [],
   "source": [
    "df_thick[[0, 50, 100]].plot();\n",
    "plt.title('Ice thickness at three points in time');"
   ]
  },
  {
   "cell_type": "code",
   "execution_count": null,
   "metadata": {},
   "outputs": [],
   "source": [
    "f, ax = plt.subplots()\n",
    "df_surf_h[[0, 50, 100]].plot(ax=ax);\n",
    "df_coords['bed_elevation'].plot(ax=ax, color='k');\n",
    "plt.title('Ice thickness at three points in time');"
   ]
  },
  {
   "cell_type": "markdown",
   "metadata": {},
   "source": [
    "## What's next?\n",
    "\n",
    "- return to the [OGGM documentation](https://docs.oggm.org)\n",
    "- back to the [table of contents](welcome.ipynb)"
   ]
  }
 ],
 "metadata": {
  "celltoolbar": "Tags",
  "hide_input": false,
  "kernelspec": {
   "display_name": "Python 3",
   "language": "python",
   "name": "python3"
  },
  "language_info": {
   "codemirror_mode": {
    "name": "ipython",
    "version": 3
   },
   "file_extension": ".py",
   "mimetype": "text/x-python",
   "name": "python",
   "nbconvert_exporter": "python",
   "pygments_lexer": "ipython3",
   "version": "3.8.5"
  },
  "latex_envs": {
   "LaTeX_envs_menu_present": true,
   "autoclose": false,
   "autocomplete": true,
   "bibliofile": "biblio.bib",
   "cite_by": "apalike",
   "current_citInitial": 1,
   "eqLabelWithNumbers": true,
   "eqNumInitial": 1,
   "hotkeys": {
    "equation": "Ctrl-E",
    "itemize": "Ctrl-I"
   },
   "labels_anchors": false,
   "latex_user_defs": false,
   "report_style_numbering": false,
   "user_envs_cfg": false
  },
  "nbTranslate": {
   "displayLangs": [
    "*"
   ],
   "hotkey": "alt-t",
   "langInMainMenu": true,
   "sourceLang": "en",
   "targetLang": "fr",
   "useGoogleTranslate": true
  },
  "papermill": {
   "duration": 78.878142,
   "end_time": "2019-05-02T12:30:59.784271",
   "environment_variables": {},
   "exception": null,
   "input_path": "dem_comparison.ipynb",
   "output_path": "out-param.ipynb",
   "parameters": {
    "rgi_id": "RGI60-03.02489"
   },
   "start_time": "2019-05-02T12:29:40.906129",
   "version": "1.0.0"
  },
  "toc": {
   "base_numbering": 1,
   "nav_menu": {},
   "number_sections": false,
   "sideBar": true,
   "skip_h1_title": true,
   "title_cell": "Table of Contents",
   "title_sidebar": "Contents",
   "toc_cell": false,
   "toc_position": {},
   "toc_section_display": true,
   "toc_window_display": false
  }
 },
 "nbformat": 4,
 "nbformat_minor": 4
}
