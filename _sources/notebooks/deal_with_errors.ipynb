{
 "cells": [
  {
   "cell_type": "markdown",
   "metadata": {},
   "source": [
    "# Dealing with errors after a run"
   ]
  },
  {
   "cell_type": "markdown",
   "metadata": {},
   "source": [
    "In this example, we run the model on a list of three glaciers:\n",
    "two of them will end with errors: one because it already failed at\n",
    "preprocessing (i.e. prior to this run), and one during the run. We show how to recover from these errors and analyze them."
   ]
  },
  {
   "cell_type": "markdown",
   "metadata": {},
   "source": [
    "## The run"
   ]
  },
  {
   "cell_type": "code",
   "execution_count": 1,
   "metadata": {},
   "outputs": [
    {
     "name": "stderr",
     "output_type": "stream",
     "text": [
      "2021-02-02 22:46:57: oggm.cfg: Reading default parameters from the OGGM `params.cfg` configuration file.\n",
      "2021-02-02 22:46:57: oggm.cfg: Multiprocessing switched ON according to the parameter file.\n",
      "2021-02-02 22:46:57: oggm.cfg: Multiprocessing: using all available processors (N=8)\n",
      "2021-02-02 22:46:57: oggm.cfg: PARAMS['border'] changed from `20` to `80`.\n",
      "2021-02-02 22:46:57: oggm.cfg: PARAMS['continue_on_error'] changed from `False` to `True`.\n",
      "2021-02-02 22:46:57: oggm.workflow: init_glacier_directories from prepro level 4 on 3 glaciers.\n",
      "2021-02-02 22:46:57: oggm.workflow: Execute entity task gdir_from_prepro on 3 glaciers\n",
      "2021-02-02 22:46:58: oggm.workflow: Execute entity task run_random_climate on 3 glaciers\n",
      "2021-02-02 22:46:58: oggm.core.flowline: InvalidWorkflowError occurred during task run_random_climate on RGI60-11.03295: Need a valid `model_flowlines` file. If you explicitly want to use `inversion_flowlines`, set use_inversion_flowlines=True.\n",
      "2021-02-02 22:47:04: oggm.core.flowline: RuntimeError occurred during task flowline_model_run on RGI60-11.00897: Glacier exceeds domain boundaries, at year: 98.08333333333333\n",
      "2021-02-02 22:47:38: oggm.workflow: Execute entity task glacier_statistics on 3 glaciers\n",
      "2021-02-02 22:47:38: oggm.utils: Applying compile_run_output on 3 gdirs.\n"
     ]
    }
   ],
   "source": [
    "# Locals\n",
    "import oggm.cfg as cfg\n",
    "from oggm import utils, workflow, tasks\n",
    "\n",
    "# Initialize OGGM and set up the default run parameters\n",
    "cfg.initialize(logging_level='WARNING')\n",
    "\n",
    "# Here we override some of the default parameters\n",
    "# How many grid points around the glacier?\n",
    "# We make it small because we want the model to error because\n",
    "# of flowing out of the domain\n",
    "cfg.PARAMS['border'] = 80\n",
    "\n",
    "# This is the important bit!\n",
    "# We tell OGGM to continue despite of errors\n",
    "cfg.PARAMS['continue_on_error'] = True\n",
    "\n",
    "# Local working directory (where OGGM will write its output)\n",
    "WORKING_DIR = utils.gettempdir('OGGM_Errors')\n",
    "utils.mkdir(WORKING_DIR, reset=True)\n",
    "cfg.PATHS['working_dir'] = WORKING_DIR\n",
    "\n",
    "rgi_ids = ['RGI60-11.00897', 'RGI60-11.01450', 'RGI60-11.03295']\n",
    "\n",
    "# Go - get the pre-processed glacier directories\n",
    "gdirs = workflow.init_glacier_directories(rgi_ids, from_prepro_level=4)\n",
    "\n",
    "# We can step directly to the experiment!\n",
    "# Random climate representative for the recent climate (1985-2015)\n",
    "# with a negative bias added to the random temperature series\n",
    "workflow.execute_entity_task(tasks.run_random_climate, gdirs,\n",
    "                             nyears=150, seed=0,\n",
    "                             temperature_bias=-1)\n",
    "\n",
    "# Write the compiled output\n",
    "utils.compile_glacier_statistics(gdirs);\n",
    "utils.compile_run_output(gdirs);"
   ]
  },
  {
   "cell_type": "markdown",
   "metadata": {},
   "source": [
    "## Run output"
   ]
  },
  {
   "cell_type": "code",
   "execution_count": 2,
   "metadata": {},
   "outputs": [],
   "source": [
    "# TODO"
   ]
  },
  {
   "cell_type": "markdown",
   "metadata": {},
   "source": [
    "## What's next?\n",
    "\n",
    "- return to the [OGGM documentation](https://docs.oggm.org)\n",
    "- back to the [table of contents](welcome.ipynb)"
   ]
  }
 ],
 "metadata": {
  "hide_input": false,
  "kernelspec": {
   "display_name": "Python 3",
   "language": "python",
   "name": "python3"
  },
  "language_info": {
   "codemirror_mode": {
    "name": "ipython",
    "version": 3
   },
   "file_extension": ".py",
   "mimetype": "text/x-python",
   "name": "python",
   "nbconvert_exporter": "python",
   "pygments_lexer": "ipython3",
   "version": "3.8.5"
  },
  "toc": {
   "base_numbering": 1,
   "nav_menu": {},
   "number_sections": false,
   "sideBar": true,
   "skip_h1_title": true,
   "title_cell": "Table of Contents",
   "title_sidebar": "Contents",
   "toc_cell": false,
   "toc_position": {},
   "toc_section_display": true,
   "toc_window_display": false
  }
 },
 "nbformat": 4,
 "nbformat_minor": 4
}
