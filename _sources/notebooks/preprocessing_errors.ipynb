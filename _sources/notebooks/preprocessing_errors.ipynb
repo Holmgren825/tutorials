{
 "cells": [
  {
   "cell_type": "markdown",
   "metadata": {},
   "source": [
    "# Error analysis of the global pre-processing workflow"
   ]
  },
  {
   "cell_type": "markdown",
   "metadata": {},
   "source": [
    "Here we reproduce the error analysis shown in [Maussion et al. (2019)](https://www.geosci-model-dev.net/12/909/2019/) **for the pre-processing part only, and for the new glacier directories (version 1.4)**. The error analysis of user runs needs a separate handling, see the [deal_with_errors](deal_with_errors.ipynb) notebook for more information."
   ]
  },
  {
   "cell_type": "markdown",
   "metadata": {},
   "source": [
    "## Get the files"
   ]
  },
  {
   "cell_type": "markdown",
   "metadata": {},
   "source": [
    "We download the `glacier_statistics` files from the preprocessed directories folders, at the level 5. That is, we are going to count all errors that happened during the pre-processing chain."
   ]
  },
  {
   "cell_type": "code",
   "execution_count": 1,
   "metadata": {},
   "outputs": [],
   "source": [
    "from oggm import utils\n",
    "import pandas as pd\n",
    "import seaborn as sns"
   ]
  },
  {
   "cell_type": "code",
   "execution_count": 2,
   "metadata": {},
   "outputs": [],
   "source": [
    "# This is CRU + centerlines. But you can try CRU+elev_bands, or ERA5+elev_bands, etc!\n",
    "url = 'https://cluster.klima.uni-bremen.de/~oggm/gdirs/oggm_v1.4/L3-L5_files/CRU/centerlines/qc3/pcp2.5/no_match/RGI62/b_040/L5/summary/'"
   ]
  },
  {
   "cell_type": "code",
   "execution_count": 3,
   "metadata": {},
   "outputs": [],
   "source": [
    "df = []\n",
    "for rgi_reg in range(1, 19):\n",
    "    fpath = utils.file_downloader(url + f'glacier_statistics_{rgi_reg:02d}.csv')\n",
    "    df.append(pd.read_csv(fpath, index_col=0, low_memory=False))\n",
    "df = pd.concat(df, sort=False).sort_index()"
   ]
  },
  {
   "cell_type": "markdown",
   "metadata": {},
   "source": [
    "## Analyze the errors"
   ]
  },
  {
   "cell_type": "code",
   "execution_count": 4,
   "metadata": {},
   "outputs": [
    {
     "data": {
      "image/png": "[encoded data removed]",
      "text/plain": [
       "<Figure size 432x288 with 1 Axes>"
      ]
     },
     "metadata": {
      "needs_background": "light"
     },
     "output_type": "display_data"
    }
   ],
   "source": [
    "sns.countplot(y=\"error_task\", data=df);"
   ]
  },
  {
   "cell_type": "code",
   "execution_count": 7,
   "metadata": {},
   "outputs": [
    {
     "data": {
      "text/plain": [
       "'% area errors all sources: 3.24%'"
      ]
     },
     "execution_count": 7,
     "metadata": {},
     "output_type": "execute_result"
    }
   ],
   "source": [
    "\"% area errors all sources: {:.2f}%\".format(df.loc[~df['error_task'].isnull()].rgi_area_km2.sum() / df.rgi_area_km2.sum() * 100)"
   ]
  },
  {
   "cell_type": "code",
   "execution_count": 10,
   "metadata": {},
   "outputs": [
    {
     "data": {
      "text/plain": [
       "'% area errors before climate: 0.41%'"
      ]
     },
     "execution_count": 10,
     "metadata": {},
     "output_type": "execute_result"
    }
   ],
   "source": [
    "dfe = df.loc[~df['error_task'].isnull()]\n",
    "dfe = dfe.loc[~dfe['error_task'].isin(['local_t_star', 'mu_star_calibration'])]\n",
    "\"% area errors before climate: {:.2f}%\".format(dfe.rgi_area_km2.sum() / df.rgi_area_km2.sum() * 100)"
   ]
  },
  {
   "cell_type": "code",
   "execution_count": 11,
   "metadata": {},
   "outputs": [
    {
     "data": {
      "image/png": "[encoded data removed]",
      "text/plain": [
       "<Figure size 432x288 with 1 Axes>"
      ]
     },
     "metadata": {
      "needs_background": "light"
     },
     "output_type": "display_data"
    }
   ],
   "source": [
    "sns.countplot(y=\"error_task\", data=dfe);"
   ]
  },
  {
   "cell_type": "code",
   "execution_count": 6,
   "metadata": {},
   "outputs": [
    {
     "data": {
      "text/html": [
       "<div>\n",
       "<style scoped>\n",
       "    .dataframe tbody tr th:only-of-type {\n",
       "        vertical-align: middle;\n",
       "    }\n",
       "\n",
       "    .dataframe tbody tr th {\n",
       "        vertical-align: top;\n",
       "    }\n",
       "\n",
       "    .dataframe thead th {\n",
       "        text-align: right;\n",
       "    }\n",
       "</style>\n",
       "<table border=\"1\" class=\"dataframe\">\n",
       "  <thead>\n",
       "    <tr style=\"text-align: right;\">\n",
       "      <th></th>\n",
       "      <th>rgi_area_km2</th>\n",
       "      <th>error_task</th>\n",
       "      <th>error_msg</th>\n",
       "    </tr>\n",
       "    <tr>\n",
       "      <th>rgi_id</th>\n",
       "      <th></th>\n",
       "      <th></th>\n",
       "      <th></th>\n",
       "    </tr>\n",
       "  </thead>\n",
       "  <tbody>\n",
       "    <tr>\n",
       "      <th>RGI60-17.15804</th>\n",
       "      <td>790.282</td>\n",
       "      <td>mu_star_calibration</td>\n",
       "      <td>MassBalanceCalibrationError: RGI60-17.15804 mu...</td>\n",
       "    </tr>\n",
       "    <tr>\n",
       "      <th>RGI60-17.15808</th>\n",
       "      <td>721.950</td>\n",
       "      <td>local_t_star</td>\n",
       "      <td>MassBalanceCalibrationError: RGI60-17.15808: m...</td>\n",
       "    </tr>\n",
       "    <tr>\n",
       "      <th>RGI60-13.54431</th>\n",
       "      <td>663.729</td>\n",
       "      <td>flowline_model_run_historical</td>\n",
       "      <td>RuntimeError: CFL error: required time step sm...</td>\n",
       "    </tr>\n",
       "    <tr>\n",
       "      <th>RGI60-17.15897</th>\n",
       "      <td>428.505</td>\n",
       "      <td>local_t_star</td>\n",
       "      <td>MassBalanceCalibrationError: RGI60-17.15897: m...</td>\n",
       "    </tr>\n",
       "    <tr>\n",
       "      <th>RGI60-05.10735</th>\n",
       "      <td>392.607</td>\n",
       "      <td>local_t_star</td>\n",
       "      <td>MassBalanceCalibrationError: RGI60-05.10735: m...</td>\n",
       "    </tr>\n",
       "    <tr>\n",
       "      <th>RGI60-05.10634</th>\n",
       "      <td>388.067</td>\n",
       "      <td>local_t_star</td>\n",
       "      <td>MassBalanceCalibrationError: RGI60-05.10634: m...</td>\n",
       "    </tr>\n",
       "    <tr>\n",
       "      <th>RGI60-05.10617</th>\n",
       "      <td>373.290</td>\n",
       "      <td>local_t_star</td>\n",
       "      <td>MassBalanceCalibrationError: RGI60-05.10617: m...</td>\n",
       "    </tr>\n",
       "    <tr>\n",
       "      <th>RGI60-05.10762</th>\n",
       "      <td>309.061</td>\n",
       "      <td>local_t_star</td>\n",
       "      <td>MassBalanceCalibrationError: RGI60-05.10762: m...</td>\n",
       "    </tr>\n",
       "    <tr>\n",
       "      <th>RGI60-05.10748</th>\n",
       "      <td>289.188</td>\n",
       "      <td>local_t_star</td>\n",
       "      <td>MassBalanceCalibrationError: RGI60-05.10748: m...</td>\n",
       "    </tr>\n",
       "    <tr>\n",
       "      <th>RGI60-13.43483</th>\n",
       "      <td>282.721</td>\n",
       "      <td>flowline_model_run_historical</td>\n",
       "      <td>RuntimeError: CFL error: required time step sm...</td>\n",
       "    </tr>\n",
       "    <tr>\n",
       "      <th>RGI60-17.15898</th>\n",
       "      <td>268.749</td>\n",
       "      <td>local_t_star</td>\n",
       "      <td>MassBalanceCalibrationError: RGI60-17.15898: m...</td>\n",
       "    </tr>\n",
       "    <tr>\n",
       "      <th>RGI60-01.16377</th>\n",
       "      <td>254.841</td>\n",
       "      <td>flowline_model_run_historical</td>\n",
       "      <td>RuntimeError: CFL error: required time step sm...</td>\n",
       "    </tr>\n",
       "    <tr>\n",
       "      <th>RGI60-05.10988</th>\n",
       "      <td>207.766</td>\n",
       "      <td>local_t_star</td>\n",
       "      <td>MassBalanceCalibrationError: RGI60-05.10988: m...</td>\n",
       "    </tr>\n",
       "    <tr>\n",
       "      <th>RGI60-14.04404</th>\n",
       "      <td>203.336</td>\n",
       "      <td>flowline_model_run_historical</td>\n",
       "      <td>RuntimeError: CFL error: required time step sm...</td>\n",
       "    </tr>\n",
       "    <tr>\n",
       "      <th>RGI60-05.10959</th>\n",
       "      <td>183.850</td>\n",
       "      <td>local_t_star</td>\n",
       "      <td>MassBalanceCalibrationError: RGI60-05.10959: m...</td>\n",
       "    </tr>\n",
       "  </tbody>\n",
       "</table>\n",
       "</div>"
      ],
      "text/plain": [
       "                rgi_area_km2                     error_task  \\\n",
       "rgi_id                                                        \n",
       "RGI60-17.15804       790.282            mu_star_calibration   \n",
       "RGI60-17.15808       721.950                   local_t_star   \n",
       "RGI60-13.54431       663.729  flowline_model_run_historical   \n",
       "RGI60-17.15897       428.505                   local_t_star   \n",
       "RGI60-05.10735       392.607                   local_t_star   \n",
       "RGI60-05.10634       388.067                   local_t_star   \n",
       "RGI60-05.10617       373.290                   local_t_star   \n",
       "RGI60-05.10762       309.061                   local_t_star   \n",
       "RGI60-05.10748       289.188                   local_t_star   \n",
       "RGI60-13.43483       282.721  flowline_model_run_historical   \n",
       "RGI60-17.15898       268.749                   local_t_star   \n",
       "RGI60-01.16377       254.841  flowline_model_run_historical   \n",
       "RGI60-05.10988       207.766                   local_t_star   \n",
       "RGI60-14.04404       203.336  flowline_model_run_historical   \n",
       "RGI60-05.10959       183.850                   local_t_star   \n",
       "\n",
       "                                                        error_msg  \n",
       "rgi_id                                                             \n",
       "RGI60-17.15804  MassBalanceCalibrationError: RGI60-17.15804 mu...  \n",
       "RGI60-17.15808  MassBalanceCalibrationError: RGI60-17.15808: m...  \n",
       "RGI60-13.54431  RuntimeError: CFL error: required time step sm...  \n",
       "RGI60-17.15897  MassBalanceCalibrationError: RGI60-17.15897: m...  \n",
       "RGI60-05.10735  MassBalanceCalibrationError: RGI60-05.10735: m...  \n",
       "RGI60-05.10634  MassBalanceCalibrationError: RGI60-05.10634: m...  \n",
       "RGI60-05.10617  MassBalanceCalibrationError: RGI60-05.10617: m...  \n",
       "RGI60-05.10762  MassBalanceCalibrationError: RGI60-05.10762: m...  \n",
       "RGI60-05.10748  MassBalanceCalibrationError: RGI60-05.10748: m...  \n",
       "RGI60-13.43483  RuntimeError: CFL error: required time step sm...  \n",
       "RGI60-17.15898  MassBalanceCalibrationError: RGI60-17.15898: m...  \n",
       "RGI60-01.16377  RuntimeError: CFL error: required time step sm...  \n",
       "RGI60-05.10988  MassBalanceCalibrationError: RGI60-05.10988: m...  \n",
       "RGI60-14.04404  RuntimeError: CFL error: required time step sm...  \n",
       "RGI60-05.10959  MassBalanceCalibrationError: RGI60-05.10959: m...  "
      ]
     },
     "execution_count": 6,
     "metadata": {},
     "output_type": "execute_result"
    }
   ],
   "source": [
    "# 15 largest glaciers\n",
    "df.loc[~df['error_task'].isnull()].sort_values(by='rgi_area_km2', ascending=False)[['rgi_area_km2', 'error_task', 'error_msg']].iloc[:15]"
   ]
  },
  {
   "cell_type": "markdown",
   "metadata": {},
   "source": [
    "## What's next?\n",
    "\n",
    "- return to the [OGGM documentation](https://docs.oggm.org)\n",
    "- back to the [table of contents](welcome.ipynb)"
   ]
  }
 ],
 "metadata": {
  "hide_input": false,
  "kernelspec": {
   "display_name": "Python 3",
   "language": "python",
   "name": "python3"
  },
  "language_info": {
   "codemirror_mode": {
    "name": "ipython",
    "version": 3
   },
   "file_extension": ".py",
   "mimetype": "text/x-python",
   "name": "python",
   "nbconvert_exporter": "python",
   "pygments_lexer": "ipython3",
   "version": "3.8.5"
  },
  "toc": {
   "base_numbering": 1,
   "nav_menu": {},
   "number_sections": false,
   "sideBar": true,
   "skip_h1_title": true,
   "title_cell": "Table of Contents",
   "title_sidebar": "Contents",
   "toc_cell": false,
   "toc_position": {},
   "toc_section_display": true,
   "toc_window_display": false
  }
 },
 "nbformat": 4,
 "nbformat_minor": 4
}
