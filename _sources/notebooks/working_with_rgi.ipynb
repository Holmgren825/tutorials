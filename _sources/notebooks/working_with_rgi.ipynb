{
 "cells": [
  {
   "cell_type": "markdown",
   "metadata": {},
   "source": [
    "# Working with the RGI files"
   ]
  },
  {
   "cell_type": "markdown",
   "metadata": {},
   "source": [
    "The glacier outlines obtained from the [Randolph Glacier Inventory](https://www.glims.org/RGI/) are the reference dataset for global and regional applications in OGGM. The current version is V6, and OGGM ships with a slightly modified version which we called `62`."
   ]
  },
  {
   "cell_type": "markdown",
   "metadata": {},
   "source": [
    "## Download the glacier outlines "
   ]
  },
  {
   "cell_type": "markdown",
   "metadata": {},
   "source": [
    " To download this version, simply do: "
   ]
  },
  {
   "cell_type": "code",
   "execution_count": 1,
   "metadata": {},
   "outputs": [
    {
     "data": {
      "text/plain": [
       "'/home/mowglie/disk/OGGM_INPUT/rgi/RGIV62'"
      ]
     },
     "execution_count": 1,
     "metadata": {},
     "output_type": "execute_result"
    }
   ],
   "source": [
    "# this might take a couple of minutes!\n",
    "from oggm import utils\n",
    "utils.get_rgi_dir(version='62')  # path to the data after download"
   ]
  },
  {
   "cell_type": "markdown",
   "metadata": {},
   "source": [
    "## Access a region file"
   ]
  },
  {
   "cell_type": "markdown",
   "metadata": {},
   "source": [
    "The RGI is divided in 19 regions (and many more sub-regions, not plotted here):"
   ]
  },
  {
   "cell_type": "markdown",
   "metadata": {},
   "source": [
    "![rgi-map](https://www.researchgate.net/profile/Tobias_Bolch/publication/264125572/figure/fig1/AS:295867740377088@1447551774164/First-order-regions-of-the-RGI-with-glaciers-shown-in-red-Region-numbers-are-those-of.png)\n",
    "*Source: [the RGI consortium](http://www.glims.org/RGI/randolph60.html)*"
   ]
  },
  {
   "cell_type": "code",
   "execution_count": 2,
   "metadata": {},
   "outputs": [],
   "source": [
    "from oggm import utils\n",
    "fr = utils.get_rgi_region_file(11, version='62')  # Central Europe"
   ]
  },
  {
   "cell_type": "markdown",
   "metadata": {},
   "source": [
    "The RGI region files are [shapefiles](https://en.wikipedia.org/wiki/Shapefile), a vector format commonly used in GIS applications. The library of choice to read shapefiles in python is [geopandas](http://geopandas.org/):"
   ]
  },
  {
   "cell_type": "code",
   "execution_count": 3,
   "metadata": {},
   "outputs": [],
   "source": [
    "import geopandas as gpd\n",
    "gdf = gpd.read_file(fr)"
   ]
  },
  {
   "cell_type": "markdown",
   "metadata": {},
   "source": [
    "## The RGI files and their attributes "
   ]
  },
  {
   "cell_type": "markdown",
   "metadata": {},
   "source": [
    "The `gdf` variable is a `GeoDataFrame`, i.e. you can use most of the tools you know from pandas' `DataFrames`:"
   ]
  },
  {
   "cell_type": "code",
   "execution_count": 4,
   "metadata": {},
   "outputs": [
    {
     "data": {
      "text/plain": [
       "3927"
      ]
     },
     "execution_count": 4,
     "metadata": {},
     "output_type": "execute_result"
    }
   ],
   "source": [
    "len(gdf)"
   ]
  },
  {
   "cell_type": "code",
   "execution_count": 5,
   "metadata": {},
   "outputs": [
    {
     "data": {
      "text/html": [
       "<div>\n",
       "<style scoped>\n",
       "    .dataframe tbody tr th:only-of-type {\n",
       "        vertical-align: middle;\n",
       "    }\n",
       "\n",
       "    .dataframe tbody tr th {\n",
       "        vertical-align: top;\n",
       "    }\n",
       "\n",
       "    .dataframe thead th {\n",
       "        text-align: right;\n",
       "    }\n",
       "</style>\n",
       "<table border=\"1\" class=\"dataframe\">\n",
       "  <thead>\n",
       "    <tr style=\"text-align: right;\">\n",
       "      <th></th>\n",
       "      <th>RGIId</th>\n",
       "      <th>GLIMSId</th>\n",
       "      <th>BgnDate</th>\n",
       "      <th>EndDate</th>\n",
       "      <th>CenLon</th>\n",
       "      <th>CenLat</th>\n",
       "      <th>O1Region</th>\n",
       "      <th>O2Region</th>\n",
       "      <th>Area</th>\n",
       "      <th>Zmin</th>\n",
       "      <th>...</th>\n",
       "      <th>Lmax</th>\n",
       "      <th>Status</th>\n",
       "      <th>Connect</th>\n",
       "      <th>Form</th>\n",
       "      <th>TermType</th>\n",
       "      <th>Surging</th>\n",
       "      <th>Linkages</th>\n",
       "      <th>Name</th>\n",
       "      <th>check_geom</th>\n",
       "      <th>geometry</th>\n",
       "    </tr>\n",
       "  </thead>\n",
       "  <tbody>\n",
       "    <tr>\n",
       "      <th>0</th>\n",
       "      <td>RGI60-11.00001</td>\n",
       "      <td>G013599E47495N</td>\n",
       "      <td>20030799</td>\n",
       "      <td>20030999</td>\n",
       "      <td>13.5987</td>\n",
       "      <td>47.4949</td>\n",
       "      <td>11</td>\n",
       "      <td>1</td>\n",
       "      <td>0.122</td>\n",
       "      <td>2191</td>\n",
       "      <td>...</td>\n",
       "      <td>461</td>\n",
       "      <td>0</td>\n",
       "      <td>0</td>\n",
       "      <td>0</td>\n",
       "      <td>0</td>\n",
       "      <td>9</td>\n",
       "      <td>9</td>\n",
       "      <td>None</td>\n",
       "      <td>None</td>\n",
       "      <td>POLYGON ((13.60035 47.49330, 13.59995 47.49332...</td>\n",
       "    </tr>\n",
       "    <tr>\n",
       "      <th>1</th>\n",
       "      <td>RGI60-11.00002</td>\n",
       "      <td>G013614E47485N</td>\n",
       "      <td>20030799</td>\n",
       "      <td>20030999</td>\n",
       "      <td>13.6135</td>\n",
       "      <td>47.4845</td>\n",
       "      <td>11</td>\n",
       "      <td>1</td>\n",
       "      <td>2.292</td>\n",
       "      <td>2203</td>\n",
       "      <td>...</td>\n",
       "      <td>1853</td>\n",
       "      <td>0</td>\n",
       "      <td>0</td>\n",
       "      <td>0</td>\n",
       "      <td>0</td>\n",
       "      <td>9</td>\n",
       "      <td>9</td>\n",
       "      <td>None</td>\n",
       "      <td>None</td>\n",
       "      <td>POLYGON ((13.60638 47.47578, 13.60599 47.47579...</td>\n",
       "    </tr>\n",
       "    <tr>\n",
       "      <th>2</th>\n",
       "      <td>RGI60-11.00003</td>\n",
       "      <td>G013596E47484N</td>\n",
       "      <td>20030799</td>\n",
       "      <td>20030999</td>\n",
       "      <td>13.5960</td>\n",
       "      <td>47.4835</td>\n",
       "      <td>11</td>\n",
       "      <td>1</td>\n",
       "      <td>0.851</td>\n",
       "      <td>2280</td>\n",
       "      <td>...</td>\n",
       "      <td>1140</td>\n",
       "      <td>0</td>\n",
       "      <td>0</td>\n",
       "      <td>0</td>\n",
       "      <td>0</td>\n",
       "      <td>9</td>\n",
       "      <td>9</td>\n",
       "      <td>None</td>\n",
       "      <td>None</td>\n",
       "      <td>POLYGON ((13.59765 47.47613, 13.59726 47.47614...</td>\n",
       "    </tr>\n",
       "    <tr>\n",
       "      <th>3</th>\n",
       "      <td>RGI60-11.00004</td>\n",
       "      <td>G013583E47481N</td>\n",
       "      <td>20030799</td>\n",
       "      <td>20030999</td>\n",
       "      <td>13.5829</td>\n",
       "      <td>47.4807</td>\n",
       "      <td>11</td>\n",
       "      <td>1</td>\n",
       "      <td>0.053</td>\n",
       "      <td>2319</td>\n",
       "      <td>...</td>\n",
       "      <td>382</td>\n",
       "      <td>0</td>\n",
       "      <td>0</td>\n",
       "      <td>0</td>\n",
       "      <td>0</td>\n",
       "      <td>9</td>\n",
       "      <td>9</td>\n",
       "      <td>None</td>\n",
       "      <td>None</td>\n",
       "      <td>POLYGON ((13.58283 47.47969, 13.58243 47.47971...</td>\n",
       "    </tr>\n",
       "    <tr>\n",
       "      <th>4</th>\n",
       "      <td>RGI60-11.00005</td>\n",
       "      <td>G013603E47477N</td>\n",
       "      <td>20030799</td>\n",
       "      <td>20030999</td>\n",
       "      <td>13.6026</td>\n",
       "      <td>47.4774</td>\n",
       "      <td>11</td>\n",
       "      <td>1</td>\n",
       "      <td>0.057</td>\n",
       "      <td>2656</td>\n",
       "      <td>...</td>\n",
       "      <td>202</td>\n",
       "      <td>0</td>\n",
       "      <td>0</td>\n",
       "      <td>0</td>\n",
       "      <td>0</td>\n",
       "      <td>9</td>\n",
       "      <td>9</td>\n",
       "      <td>None</td>\n",
       "      <td>None</td>\n",
       "      <td>POLYGON ((13.60076 47.47519, 13.60036 47.47521...</td>\n",
       "    </tr>\n",
       "  </tbody>\n",
       "</table>\n",
       "<p>5 rows × 24 columns</p>\n",
       "</div>"
      ],
      "text/plain": [
       "            RGIId         GLIMSId   BgnDate   EndDate   CenLon   CenLat  \\\n",
       "0  RGI60-11.00001  G013599E47495N  20030799  20030999  13.5987  47.4949   \n",
       "1  RGI60-11.00002  G013614E47485N  20030799  20030999  13.6135  47.4845   \n",
       "2  RGI60-11.00003  G013596E47484N  20030799  20030999  13.5960  47.4835   \n",
       "3  RGI60-11.00004  G013583E47481N  20030799  20030999  13.5829  47.4807   \n",
       "4  RGI60-11.00005  G013603E47477N  20030799  20030999  13.6026  47.4774   \n",
       "\n",
       "  O1Region O2Region   Area  Zmin  ...  Lmax  Status  Connect  Form  TermType  \\\n",
       "0       11        1  0.122  2191  ...   461       0        0     0         0   \n",
       "1       11        1  2.292  2203  ...  1853       0        0     0         0   \n",
       "2       11        1  0.851  2280  ...  1140       0        0     0         0   \n",
       "3       11        1  0.053  2319  ...   382       0        0     0         0   \n",
       "4       11        1  0.057  2656  ...   202       0        0     0         0   \n",
       "\n",
       "   Surging  Linkages  Name  check_geom  \\\n",
       "0        9         9  None        None   \n",
       "1        9         9  None        None   \n",
       "2        9         9  None        None   \n",
       "3        9         9  None        None   \n",
       "4        9         9  None        None   \n",
       "\n",
       "                                            geometry  \n",
       "0  POLYGON ((13.60035 47.49330, 13.59995 47.49332...  \n",
       "1  POLYGON ((13.60638 47.47578, 13.60599 47.47579...  \n",
       "2  POLYGON ((13.59765 47.47613, 13.59726 47.47614...  \n",
       "3  POLYGON ((13.58283 47.47969, 13.58243 47.47971...  \n",
       "4  POLYGON ((13.60076 47.47519, 13.60036 47.47521...  \n",
       "\n",
       "[5 rows x 24 columns]"
      ]
     },
     "execution_count": 5,
     "metadata": {},
     "output_type": "execute_result"
    }
   ],
   "source": [
    "gdf.head()"
   ]
  },
  {
   "cell_type": "code",
   "execution_count": 6,
   "metadata": {},
   "outputs": [
    {
     "data": {
      "image/png": "[encoded data removed]",
      "text/plain": [
       "<Figure size 432x288 with 1 Axes>"
      ]
     },
     "metadata": {
      "needs_background": "light"
     },
     "output_type": "display_data"
    }
   ],
   "source": [
    "gdf[['Area']].plot(kind='hist', bins=100, logy=True);"
   ]
  },
  {
   "cell_type": "code",
   "execution_count": 7,
   "metadata": {},
   "outputs": [
    {
     "data": {
      "image/png": "[encoded data removed]",
      "text/plain": [
       "<Figure size 432x288 with 1 Axes>"
      ]
     },
     "metadata": {
      "needs_background": "light"
     },
     "output_type": "display_data"
    }
   ],
   "source": [
    "gdf[['Aspect']].plot(kind='hist', bins=45);"
   ]
  },
  {
   "cell_type": "markdown",
   "metadata": {},
   "source": [
    "## Selecting glaciers per attribute"
   ]
  },
  {
   "cell_type": "markdown",
   "metadata": {},
   "source": [
    "You may want to select all glaciers in the subregion 2 (Pyrenees):"
   ]
  },
  {
   "cell_type": "code",
   "execution_count": 8,
   "metadata": {},
   "outputs": [],
   "source": [
    "gdf_sel = gdf.loc[gdf.O2Region == '2']"
   ]
  },
  {
   "cell_type": "code",
   "execution_count": 9,
   "metadata": {},
   "outputs": [
    {
     "data": {
      "text/plain": [
       "'Glacier area in the Pyrenees: 3.183 km2'"
      ]
     },
     "execution_count": 9,
     "metadata": {},
     "output_type": "execute_result"
    }
   ],
   "source": [
    "'Glacier area in the Pyrenees: {} km2'.format(gdf_sel.Area.sum())"
   ]
  },
  {
   "cell_type": "markdown",
   "metadata": {},
   "source": [
    "## Selecting glaciers in a basin "
   ]
  },
  {
   "cell_type": "markdown",
   "metadata": {},
   "source": [
    "Let's use a file shipped with OGGM for a start: "
   ]
  },
  {
   "cell_type": "code",
   "execution_count": 10,
   "metadata": {},
   "outputs": [],
   "source": [
    "path = utils.get_demo_file('rofental_hydrosheds.shp')\n",
    "basin = gpd.read_file(path)"
   ]
  },
  {
   "cell_type": "code",
   "execution_count": 11,
   "metadata": {},
   "outputs": [
    {
     "data": {
      "image/png": "[encoded data removed]",
      "text/plain": [
       "<Figure size 432x288 with 1 Axes>"
      ]
     },
     "metadata": {
      "needs_background": "light"
     },
     "output_type": "display_data"
    }
   ],
   "source": [
    "basin.plot();"
   ]
  },
  {
   "cell_type": "markdown",
   "metadata": {},
   "source": [
    "And select all glaciers within this shape:"
   ]
  },
  {
   "cell_type": "code",
   "execution_count": 12,
   "metadata": {},
   "outputs": [],
   "source": [
    "import shapely.geometry as shpg\n",
    "in_bas = [basin.geometry.contains(shpg.Point(x, y))[0] for\n",
    "          (x, y) in zip(gdf.CenLon, gdf.CenLat)]\n",
    "gdf_sel = gdf.loc[in_bas]"
   ]
  },
  {
   "cell_type": "code",
   "execution_count": 13,
   "metadata": {},
   "outputs": [
    {
     "data": {
      "image/png": "[encoded data removed]",
      "text/plain": [
       "<Figure size 432x288 with 1 Axes>"
      ]
     },
     "metadata": {
      "needs_background": "light"
     },
     "output_type": "display_data"
    }
   ],
   "source": [
    "ax = basin.plot();\n",
    "gdf_sel.plot(ax=ax, edgecolor='k');"
   ]
  },
  {
   "cell_type": "markdown",
   "metadata": {},
   "source": [
    "## Select glaciers by their ID "
   ]
  },
  {
   "cell_type": "markdown",
   "metadata": {},
   "source": [
    "Each glacier in the RGI has a unique ID. It is sometimes difficult to find out which one, but some tools can help you out. For example, the [GLIMS viewer](https://www.glims.org/maps/glims) allows to select glaciers and then see their ID. For example, the Aletsch Glacier in the Swiss Alps:"
   ]
  },
  {
   "cell_type": "code",
   "execution_count": 14,
   "metadata": {},
   "outputs": [
    {
     "data": {
      "image/png": "[encoded data removed]",
      "text/plain": [
       "<Figure size 432x288 with 1 Axes>"
      ]
     },
     "metadata": {
      "needs_background": "light"
     },
     "output_type": "display_data"
    }
   ],
   "source": [
    "al = utils.get_rgi_glacier_entities(['RGI60-11.01450'], version='62')\n",
    "al.plot();"
   ]
  },
  {
   "cell_type": "markdown",
   "metadata": {},
   "source": [
    "## Use the RGI files to start an OGGM run "
   ]
  },
  {
   "cell_type": "markdown",
   "metadata": {},
   "source": [
    "RGI files can be given as input to OGGM to make a run:"
   ]
  },
  {
   "cell_type": "code",
   "execution_count": 15,
   "metadata": {},
   "outputs": [
    {
     "name": "stderr",
     "output_type": "stream",
     "text": [
      "/home/mowglie/disk/Dropbox/HomeDocs/git/oggm-fork/oggm/cfg.py:377: FutureWarning: In future versions of OGGM, the logging config WORKFLOW will no longer print ERROR or WARNING messages, but only high level information (i.e. hiding potential errors in your code but also avoiding cluttered log files for runs with many expected errors, e.g. global runs). If you want to obtain a similar logger behavior as before, set `logging_level='WARNING'`, which will print high level info as well as errors and warnings during the run. If you want to use the new behavior and suppress this warning, set `logging_level='WORKFLOW'` and `future=True`.\n",
      "  warnings.warn(msg, category=FutureWarning)\n",
      "2021-01-30 16:16:00: oggm.cfg: Reading default parameters from the OGGM `params.cfg` configuration file.\n",
      "2021-01-30 16:16:00: oggm.cfg: Multiprocessing switched ON according to the parameter file.\n",
      "2021-01-30 16:16:00: oggm.cfg: Multiprocessing: using all available processors (N=8)\n",
      "2021-01-30 16:16:01: oggm.cfg: PARAMS['continue_on_error'] changed from `False` to `True`.\n",
      "2021-01-30 16:16:01: oggm.cfg: PARAMS['border'] changed from `20` to `80`.\n",
      "2021-01-30 16:16:01: oggm.workflow: init_glacier_directories from prepro level 4 on 54 glaciers.\n",
      "2021-01-30 16:16:01: oggm.workflow: Execute entity task gdir_from_prepro on 54 glaciers\n",
      "100% of  22.6 MiB |######################| Elapsed Time: 0:00:01 Time:  0:00:01\n",
      "100% of  22.5 MiB |######################| Elapsed Time: 0:00:01 Time:  0:00:01\n",
      "2021-01-30 16:17:27: oggm.core.flowline: ValueError occurred during task flowline_model_run_2000 on RGI60-11.00674: year 2024.0 out of the valid time bounds: [1902, 2019]\n",
      "2021-01-30 16:17:27: oggm.core.flowline: ValueError occurred during task flowline_model_run_2000 on RGI60-11.00702: year 2023.0 out of the valid time bounds: [1902, 2019]\n",
      "2021-01-30 16:17:27: oggm.core.flowline: ValueError occurred during task flowline_model_run_2000 on RGI60-11.00690: year 2022.0 out of the valid time bounds: [1902, 2019]\n",
      "2021-01-30 16:17:27: oggm.core.flowline: ValueError occurred during task flowline_model_run_2000 on RGI60-11.00724: year 2023.0 out of the valid time bounds: [1902, 2019]\n",
      "2021-01-30 16:17:28: oggm.core.flowline: ValueError occurred during task flowline_model_run_2000 on RGI60-11.00719: year 2023.0 out of the valid time bounds: [1902, 2019]\n",
      "2021-01-30 16:17:28: oggm.core.flowline: ValueError occurred during task flowline_model_run_2000 on RGI60-11.00675: year 2022.0 out of the valid time bounds: [1902, 2019]\n",
      "2021-01-30 16:17:28: oggm.core.flowline: ValueError occurred during task flowline_model_run_2000 on RGI60-11.00718: year 2024.0 out of the valid time bounds: [1902, 2019]\n",
      "2021-01-30 16:17:28: oggm.core.flowline: ValueError occurred during task flowline_model_run_2000 on RGI60-11.00739: year 2024.0 out of the valid time bounds: [1902, 2019]\n",
      "2021-01-30 16:17:28: oggm.core.flowline: ValueError occurred during task flowline_model_run_2000 on RGI60-11.00726: year 2024.0 out of the valid time bounds: [1902, 2019]\n",
      "2021-01-30 16:17:28: oggm.core.flowline: ValueError occurred during task flowline_model_run_2000 on RGI60-11.00720: year 2022.0 out of the valid time bounds: [1902, 2019]\n",
      "2021-01-30 16:17:28: oggm.core.flowline: ValueError occurred during task flowline_model_run_2000 on RGI60-11.00737: year 2022.0 out of the valid time bounds: [1902, 2019]\n",
      "2021-01-30 16:17:28: oggm.core.flowline: ValueError occurred during task flowline_model_run_2000 on RGI60-11.00745: year 2021.0 out of the valid time bounds: [1902, 2019]\n",
      "2021-01-30 16:17:28: oggm.core.flowline: ValueError occurred during task flowline_model_run_2000 on RGI60-11.00731: year 2020.0 out of the valid time bounds: [1902, 2019]\n",
      "2021-01-30 16:17:28: oggm.core.flowline: ValueError occurred during task flowline_model_run_2000 on RGI60-11.00747: year 2020.0 out of the valid time bounds: [1902, 2019]\n",
      "2021-01-30 16:17:28: oggm.core.flowline: ValueError occurred during task flowline_model_run_2000 on RGI60-11.00779: year 2023.0 out of the valid time bounds: [1902, 2019]\n",
      "2021-01-30 16:17:28: oggm.core.flowline: ValueError occurred during task flowline_model_run_2000 on RGI60-11.00729: year 2020.0 out of the valid time bounds: [1902, 2019]\n",
      "2021-01-30 16:17:28: oggm.core.flowline: ValueError occurred during task flowline_model_run_2000 on RGI60-11.00757: year 2024.0 out of the valid time bounds: [1902, 2019]\n",
      "2021-01-30 16:17:28: oggm.core.flowline: ValueError occurred during task flowline_model_run_2000 on RGI60-11.00762: year 2021.0 out of the valid time bounds: [1902, 2019]\n",
      "2021-01-30 16:17:28: oggm.core.flowline: ValueError occurred during task flowline_model_run_2000 on RGI60-11.00787: year 2020.0 out of the valid time bounds: [1902, 2019]\n",
      "2021-01-30 16:17:28: oggm.core.flowline: ValueError occurred during task flowline_model_run_2000 on RGI60-11.00782: year 2024.0 out of the valid time bounds: [1902, 2019]\n",
      "2021-01-30 16:17:28: oggm.core.flowline: ValueError occurred during task flowline_model_run_2000 on RGI60-11.00753: year 2022.0 out of the valid time bounds: [1902, 2019]\n",
      "2021-01-30 16:17:28: oggm.core.flowline: ValueError occurred during task flowline_model_run_2000 on RGI60-11.00814: year 2024.0 out of the valid time bounds: [1902, 2019]\n",
      "2021-01-30 16:17:28: oggm.core.flowline: ValueError occurred during task flowline_model_run_2000 on RGI60-11.00831: year 2023.0 out of the valid time bounds: [1902, 2019]\n",
      "2021-01-30 16:17:28: oggm.core.flowline: ValueError occurred during task flowline_model_run_2000 on RGI60-11.00834: year 2020.0 out of the valid time bounds: [1902, 2019]\n",
      "2021-01-30 16:17:28: oggm.core.flowline: ValueError occurred during task flowline_model_run_2000 on RGI60-11.00822: year 2024.0 out of the valid time bounds: [1902, 2019]\n",
      "2021-01-30 16:17:28: oggm.core.flowline: ValueError occurred during task flowline_model_run_2000 on RGI60-11.00802: year 2023.0 out of the valid time bounds: [1902, 2019]\n",
      "2021-01-30 16:17:28: oggm.core.flowline: ValueError occurred during task flowline_model_run_2000 on RGI60-11.00844: year 2022.0 out of the valid time bounds: [1902, 2019]\n",
      "2021-01-30 16:17:28: oggm.core.flowline: ValueError occurred during task flowline_model_run_2000 on RGI60-11.00862: year 2021.0 out of the valid time bounds: [1902, 2019]\n",
      "2021-01-30 16:17:28: oggm.core.flowline: ValueError occurred during task flowline_model_run_2000 on RGI60-11.00885: year 2021.0 out of the valid time bounds: [1902, 2019]\n",
      "2021-01-30 16:17:28: oggm.core.flowline: ValueError occurred during task flowline_model_run_2000 on RGI60-11.00839: year 2023.0 out of the valid time bounds: [1902, 2019]\n",
      "2021-01-30 16:17:28: oggm.core.flowline: ValueError occurred during task flowline_model_run_2000 on RGI60-11.00860: year 2022.0 out of the valid time bounds: [1902, 2019]\n",
      "2021-01-30 16:17:28: oggm.core.flowline: ValueError occurred during task flowline_model_run_2000 on RGI60-11.00895: year 2021.0 out of the valid time bounds: [1902, 2019]\n",
      "2021-01-30 16:17:28: oggm.core.flowline: ValueError occurred during task flowline_model_run_2000 on RGI60-11.00888: year 2024.0 out of the valid time bounds: [1902, 2019]\n",
      "2021-01-30 16:17:28: oggm.core.flowline: ValueError occurred during task flowline_model_run_2000 on RGI60-11.00886: year 2023.0 out of the valid time bounds: [1902, 2019]\n",
      "2021-01-30 16:17:28: oggm.core.flowline: ValueError occurred during task flowline_model_run_2000 on RGI60-11.00897: year 2020.0 out of the valid time bounds: [1902, 2019]\n",
      "2021-01-30 16:17:28: oggm.core.flowline: ValueError occurred during task flowline_model_run_2000 on RGI60-11.00902: year 2021.0 out of the valid time bounds: [1902, 2019]\n",
      "2021-01-30 16:17:28: oggm.core.flowline: ValueError occurred during task flowline_model_run_2000 on RGI60-11.00898: year 2024.0 out of the valid time bounds: [1902, 2019]\n",
      "2021-01-30 16:17:28: oggm.core.flowline: ValueError occurred during task flowline_model_run_2000 on RGI60-11.00873: year 2023.0 out of the valid time bounds: [1902, 2019]\n",
      "2021-01-30 16:17:28: oggm.core.flowline: ValueError occurred during task flowline_model_run_2000 on RGI60-11.00919: year 2024.0 out of the valid time bounds: [1902, 2019]\n",
      "2021-01-30 16:17:28: oggm.core.flowline: ValueError occurred during task flowline_model_run_2000 on RGI60-11.00935: year 2023.0 out of the valid time bounds: [1902, 2019]\n",
      "2021-01-30 16:17:28: oggm.core.flowline: ValueError occurred during task flowline_model_run_2000 on RGI60-11.00904: year 2023.0 out of the valid time bounds: [1902, 2019]\n",
      "2021-01-30 16:17:28: oggm.core.flowline: ValueError occurred during task flowline_model_run_2000 on RGI60-11.00943: year 2021.0 out of the valid time bounds: [1902, 2019]\n",
      "2021-01-30 16:17:28: oggm.core.flowline: ValueError occurred during task flowline_model_run_2000 on RGI60-11.00945: year 2023.0 out of the valid time bounds: [1902, 2019]\n",
      "2021-01-30 16:17:28: oggm.core.flowline: ValueError occurred during task flowline_model_run_2000 on RGI60-11.00937: year 2021.0 out of the valid time bounds: [1902, 2019]\n",
      "2021-01-30 16:17:28: oggm.core.flowline: ValueError occurred during task flowline_model_run_2000 on RGI60-11.00944: year 2023.0 out of the valid time bounds: [1902, 2019]\n",
      "2021-01-30 16:17:28: oggm.core.flowline: ValueError occurred during task flowline_model_run_2000 on RGI60-11.00927: year 2022.0 out of the valid time bounds: [1902, 2019]\n",
      "2021-01-30 16:17:28: oggm.core.flowline: ValueError occurred during task flowline_model_run_2000 on RGI60-11.00947: year 2023.0 out of the valid time bounds: [1902, 2019]\n",
      "2021-01-30 16:17:28: oggm.core.flowline: ValueError occurred during task flowline_model_run_2000 on RGI60-11.00959: year 2024.0 out of the valid time bounds: [1902, 2019]\n",
      "2021-01-30 16:17:28: oggm.core.flowline: ValueError occurred during task flowline_model_run_2000 on RGI60-11.00958: year 2022.0 out of the valid time bounds: [1902, 2019]\n",
      "2021-01-30 16:17:28: oggm.core.flowline: ValueError occurred during task flowline_model_run_2000 on RGI60-11.00980: year 2022.0 out of the valid time bounds: [1902, 2019]\n",
      "2021-01-30 16:17:28: oggm.core.flowline: ValueError occurred during task flowline_model_run_2000 on RGI60-11.01040: year 2024.0 out of the valid time bounds: [1902, 2019]\n",
      "2021-01-30 16:17:28: oggm.core.flowline: ValueError occurred during task flowline_model_run_2000 on RGI60-11.00957: year 2020.0 out of the valid time bounds: [1902, 2019]\n",
      "2021-01-30 16:17:28: oggm.core.flowline: ValueError occurred during task flowline_model_run_2000 on RGI60-11.00984: year 2024.0 out of the valid time bounds: [1902, 2019]\n",
      "2021-01-30 16:17:28: oggm.core.flowline: ValueError occurred during task flowline_model_run_2000 on RGI60-11.00962: year 2024.0 out of the valid time bounds: [1902, 2019]\n"
     ]
    }
   ],
   "source": [
    "from oggm import cfg, workflow, tasks\n",
    "cfg.initialize(logging_level='WARNING')\n",
    "cfg.PARAMS['continue_on_error'] = True\n",
    "cfg.PARAMS['border'] = 80\n",
    "cfg.PATHS['working_dir'] = utils.gettempdir(dirname='OGGM-Rofental', reset=True)\n",
    "\n",
    "gdirs = workflow.init_glacier_directories(gdf_sel, from_prepro_level=4)"
   ]
  },
  {
   "cell_type": "code",
   "execution_count": 20,
   "metadata": {},
   "outputs": [
    {
     "name": "stderr",
     "output_type": "stream",
     "text": [
      "2021-01-30 16:18:01: oggm.workflow: Execute entity task run_random_climate on 54 glaciers\n",
      "2021-01-30 16:18:06: oggm.utils: Applying compile_run_output on 54 gdirs.\n"
     ]
    }
   ],
   "source": [
    "workflow.execute_entity_task(tasks.run_random_climate, gdirs, nyears=100,\n",
    "                             y0=2009, halfsize=10, output_filesuffix='_2000')\n",
    "ds2000 = utils.compile_run_output(gdirs, filesuffix='_2000')"
   ]
  },
  {
   "cell_type": "code",
   "execution_count": 21,
   "metadata": {},
   "outputs": [
    {
     "data": {
      "image/png": "[encoded data removed]",
      "text/plain": [
       "<Figure size 432x288 with 1 Axes>"
      ]
     },
     "metadata": {
      "needs_background": "light"
     },
     "output_type": "display_data"
    }
   ],
   "source": [
    "ds2000.sum(dim='rgi_id').volume.plot();"
   ]
  },
  {
   "cell_type": "markdown",
   "metadata": {},
   "source": [
    "## What's next?\n",
    "\n",
    "- return to the [OGGM documentation](https://docs.oggm.org)\n",
    "- back to the [table of contents](welcome.ipynb)"
   ]
  }
 ],
 "metadata": {
  "hide_input": false,
  "kernelspec": {
   "display_name": "Python 3",
   "language": "python",
   "name": "python3"
  },
  "language_info": {
   "codemirror_mode": {
    "name": "ipython",
    "version": 3
   },
   "file_extension": ".py",
   "mimetype": "text/x-python",
   "name": "python",
   "nbconvert_exporter": "python",
   "pygments_lexer": "ipython3",
   "version": "3.8.5"
  },
  "toc": {
   "base_numbering": 1,
   "nav_menu": {},
   "number_sections": false,
   "sideBar": true,
   "skip_h1_title": true,
   "title_cell": "Table of Contents",
   "title_sidebar": "Contents",
   "toc_cell": false,
   "toc_position": {},
   "toc_section_display": true,
   "toc_window_display": false
  }
 },
 "nbformat": 4,
 "nbformat_minor": 4
}
